{
 "cells": [
  {
   "cell_type": "code",
   "execution_count": 35,
   "metadata": {},
   "outputs": [],
   "source": [
    "import os\n",
    "from langchain_openai import OpenAI\n",
    "from langchain.prompts import PromptTemplate\n",
    "from langchain.chains import LLMChain\n",
    "from langchain.chains import SimpleSequentialChain, SequentialChain\n",
    "from dotenv import load_dotenv, find_dotenv\n",
    "load_dotenv(find_dotenv())\n",
    "\n",
    "os.environ[\"OPENAI_API_KEY\"] = os.environ.get(\"OPENAI_API_KEY\")\n",
    "os.environ[\"SERPAPI_API_KEY\"] = os.environ.get(\"SERPAPI_API_KEY\")"
   ]
  },
  {
   "cell_type": "markdown",
   "metadata": {},
   "source": [
    "### For Single Input and Single Output Chain"
   ]
  },
  {
   "cell_type": "code",
   "execution_count": 36,
   "metadata": {},
   "outputs": [],
   "source": [
    "llm = OpenAI(\n",
    "    temperature = 0.6\n",
    ")"
   ]
  },
  {
   "cell_type": "code",
   "execution_count": 37,
   "metadata": {},
   "outputs": [],
   "source": [
    "restaurant_prompt = PromptTemplate(\n",
    "    input_variables = ['cuisine'],\n",
    "    template = \"I want to open a restaurant for {cuisine} food. Suggest a fancy name for my restaurant.\"\n",
    ")"
   ]
  },
  {
   "cell_type": "code",
   "execution_count": 38,
   "metadata": {},
   "outputs": [
    {
     "data": {
      "text/plain": [
       "'I want to open a restaurant for Indian food. Suggest a fancy name for my restaurant.'"
      ]
     },
     "execution_count": 38,
     "metadata": {},
     "output_type": "execute_result"
    }
   ],
   "source": [
    "restaurant_prompt.format(cuisine = \"Indian\")"
   ]
  },
  {
   "cell_type": "code",
   "execution_count": 39,
   "metadata": {},
   "outputs": [
    {
     "data": {
      "text/plain": [
       "'\\n\\n\"Dragon\\'s Delight\"'"
      ]
     },
     "execution_count": 39,
     "metadata": {},
     "output_type": "execute_result"
    }
   ],
   "source": [
    "name_chain = LLMChain(\n",
    "    llm = llm,\n",
    "    prompt = restaurant_prompt\n",
    ")\n",
    "name_chain.run(\"Indo-Chinese\")"
   ]
  },
  {
   "cell_type": "code",
   "execution_count": 40,
   "metadata": {},
   "outputs": [],
   "source": [
    "menu_prompt = PromptTemplate(\n",
    "    input_variables = ['restaurant_name'],\n",
    "    template = \"Suggest some menu items for {restaurant_name}. Return it as a comma separated list.\"\n",
    ")"
   ]
  },
  {
   "cell_type": "code",
   "execution_count": 41,
   "metadata": {},
   "outputs": [],
   "source": [
    "menu_chain = LLMChain(\n",
    "    llm = llm,\n",
    "    prompt = menu_prompt\n",
    ")"
   ]
  },
  {
   "cell_type": "code",
   "execution_count": 42,
   "metadata": {},
   "outputs": [
    {
     "name": "stdout",
     "output_type": "stream",
     "text": [
      "\n",
      "\n",
      "1. Feijoada (Brazilian black bean stew)\n",
      "2. Picanha (grilled top sirloin steak)\n",
      "3. Moqueca (Brazilian seafood stew)\n",
      "4. Coxinha (fried chicken croquettes)\n",
      "5. Brigadeiro (chocolate truffles)\n",
      "6. Acarajé (black-eyed pea fritters)\n",
      "7. Churrasco (Brazilian-style BBQ)\n",
      "8. Açaí bowl (blended açaí topped with fruit and granola)\n",
      "9. Farofa (toasted cassava flour)\n",
      "10. Caipirinha (Brazilian cocktail with cachaça, lime, and sugar)\n",
      "11. Cuscuz (steamed cornmeal with toppings like cheese, meat, or vegetables)\n",
      "12. Pão de queijo (cheese bread rolls)\n",
      "13. Bobó de camarão (creamy shrimp and cassava stew)\n",
      "14. Quindim (coconut custard)\n",
      "15. Pastel (fried pastry filled with meat, cheese, or vegetables)\n"
     ]
    }
   ],
   "source": [
    "chain = SimpleSequentialChain(\n",
    "    chains = [name_chain, menu_chain]\n",
    ")\n",
    "response = chain.run(\"Brazilian\")\n",
    "print(response)"
   ]
  },
  {
   "cell_type": "markdown",
   "metadata": {},
   "source": [
    "### For Multiple inputs and Multiple Output Chains"
   ]
  },
  {
   "cell_type": "code",
   "execution_count": 43,
   "metadata": {},
   "outputs": [],
   "source": [
    "llm = OpenAI(\n",
    "    temperature = 0.6\n",
    ")"
   ]
  },
  {
   "cell_type": "code",
   "execution_count": 44,
   "metadata": {},
   "outputs": [],
   "source": [
    "restaurant_prompt = PromptTemplate(\n",
    "    input_variables = ['cuisine'],\n",
    "    template = \"I want to open a restaurant for {cuisine} food. Suggest a fancy name for my restaurant.\"\n",
    ")"
   ]
  },
  {
   "cell_type": "code",
   "execution_count": 45,
   "metadata": {},
   "outputs": [],
   "source": [
    "name_chain = LLMChain(\n",
    "    llm = llm,\n",
    "    prompt = restaurant_prompt,\n",
    "    output_key = \"restaurant_name\"\n",
    ")"
   ]
  },
  {
   "cell_type": "code",
   "execution_count": 46,
   "metadata": {},
   "outputs": [],
   "source": [
    "menu_prompt = PromptTemplate(\n",
    "    input_variables = ['restaurant_name'],\n",
    "    template = \"Suggest some menu items for {restaurant_name}. Return it as a comma separated list.\"\n",
    ")"
   ]
  },
  {
   "cell_type": "code",
   "execution_count": 47,
   "metadata": {},
   "outputs": [],
   "source": [
    "menu_chain = LLMChain(\n",
    "    llm = llm,\n",
    "    prompt = menu_prompt,\n",
    "    output_key = \"menu_items\"\n",
    ")"
   ]
  },
  {
   "cell_type": "code",
   "execution_count": 48,
   "metadata": {},
   "outputs": [
    {
     "name": "stdout",
     "output_type": "stream",
     "text": [
      "{'cuisine': 'Brazilian', 'restaurant_name': '\\n\\n\"Sabores do Brasil\" (Flavors of Brazil)', 'menu_items': '\\n\\n1. Feijoada (Brazilian black bean stew)\\n2. Coxinha (fried chicken croquettes)\\n3. Picanha (grilled beef sirloin)\\n4. Moqueca (seafood stew)\\n5. Acarajé (black-eyed pea fritters)\\n6. Churrasco (Brazilian-style barbecue)\\n7. Brigadeiro (chocolate truffles)\\n8. Caipirinha (Brazilian cocktail)\\n9. Pastel de queijo (cheese pastries)\\n10. Vatapá (spicy shrimp and coconut stew)'}\n"
     ]
    }
   ],
   "source": [
    "chain = SequentialChain(\n",
    "    chains = [name_chain, menu_chain],\n",
    "    input_variables = ['cuisine'],\n",
    "    output_variables = ['restaurant_name', 'menu_items']\n",
    ")\n",
    "\n",
    "response = chain({'cuisine': 'Brazilian'})\n",
    "print(response)"
   ]
  },
  {
   "cell_type": "markdown",
   "metadata": {},
   "source": [
    "### LLM Agents"
   ]
  },
  {
   "cell_type": "code",
   "execution_count": 49,
   "metadata": {},
   "outputs": [],
   "source": [
    "from langchain.agents import AgentType, initialize_agent, load_tools\n",
    "from langchain_openai import OpenAI"
   ]
  },
  {
   "cell_type": "code",
   "execution_count": 50,
   "metadata": {},
   "outputs": [],
   "source": [
    "tools = load_tools(\n",
    "    [\"wikipedia\", \"llm-math\"],\n",
    "    llm = llm\n",
    ")"
   ]
  },
  {
   "cell_type": "code",
   "execution_count": 51,
   "metadata": {},
   "outputs": [],
   "source": [
    "agent = initialize_agent(\n",
    "    tools,\n",
    "    llm,\n",
    "    agent = AgentType.ZERO_SHOT_REACT_DESCRIPTION,\n",
    "    verbose = True\n",
    ")"
   ]
  },
  {
   "cell_type": "code",
   "execution_count": 52,
   "metadata": {},
   "outputs": [
    {
     "name": "stdout",
     "output_type": "stream",
     "text": [
      "\n",
      "\n",
      "\u001b[1m> Entering new AgentExecutor chain...\u001b[0m\n",
      "\u001b[32;1m\u001b[1;3m I should use Wikipedia to find information about Apple Inc.\n",
      "Action: Wikipedia\n",
      "Action Input: Apple Inc.\u001b[0m\n",
      "Observation: Wikipedia is not a valid tool, try one of [wikipedia, Calculator].\n",
      "Thought:\u001b[32;1m\u001b[1;3m I should use Calculator to calculate the age of Apple Inc. in 2024.\n",
      "Action: Calculator\n",
      "Action Input: 2024 - 1976\u001b[0m\n",
      "Observation: \u001b[33;1m\u001b[1;3mAnswer: 48\u001b[0m\n",
      "Thought:\u001b[32;1m\u001b[1;3m I now know the final answer\n",
      "Final Answer: In 2024, Apple Inc. will be 48 years old.\u001b[0m\n",
      "\n",
      "\u001b[1m> Finished chain.\u001b[0m\n"
     ]
    },
    {
     "data": {
      "text/plain": [
       "'In 2024, Apple Inc. will be 48 years old.'"
      ]
     },
     "execution_count": 52,
     "metadata": {},
     "output_type": "execute_result"
    }
   ],
   "source": [
    "agent.run(\"When was Apple founded and How old is Apple Inc. in 2024?\")"
   ]
  },
  {
   "cell_type": "code",
   "execution_count": 54,
   "metadata": {},
   "outputs": [],
   "source": [
    "tools = load_tools(\n",
    "    [\"serpapi\", \"llm-math\"],\n",
    "    llm = llm\n",
    ")"
   ]
  },
  {
   "cell_type": "code",
   "execution_count": 59,
   "metadata": {},
   "outputs": [],
   "source": [
    "agent = initialize_agent(\n",
    "    tools,\n",
    "    llm,\n",
    "    agent = AgentType.ZERO_SHOT_REACT_DESCRIPTION,\n",
    "    verbose = True\n",
    ")"
   ]
  },
  {
   "cell_type": "code",
   "execution_count": 68,
   "metadata": {},
   "outputs": [
    {
     "name": "stdout",
     "output_type": "stream",
     "text": [
      "\n",
      "\n",
      "\u001b[1m> Entering new AgentExecutor chain...\u001b[0m\n",
      "\u001b[32;1m\u001b[1;3m To answer this question, I should look for a source that has information on the revenue of both companies in FY22.\n",
      "Action: Search\n",
      "Action Input: \"apple microsoft revenue FY22\"\u001b[0m\n",
      "Observation: \u001b[36;1m\u001b[1;3mComparatively, in the fiscal year of 2022, hardware-focused Apple's 394.33 billion U.S. dollar revenue was almost double the amount of Microsoft's 198.27 billion U.S. dollars.\u001b[0m\n",
      "Thought:\u001b[32;1m\u001b[1;3m This gives me an idea of the general numbers, but I should verify the specific amounts.\n",
      "Action: Calculator\n",
      "Action Input: 394.33 + 198.27\u001b[0m\n",
      "Observation: \u001b[33;1m\u001b[1;3mAnswer: 592.6\u001b[0m\n",
      "Thought:\u001b[32;1m\u001b[1;3m I now know the final answer\n",
      "Final Answer: The combined revenue of Apple and Microsoft in FY22 was 592.6 billion U.S. dollars.\u001b[0m\n",
      "\n",
      "\u001b[1m> Finished chain.\u001b[0m\n"
     ]
    },
    {
     "data": {
      "text/plain": [
       "'The combined revenue of Apple and Microsoft in FY22 was 592.6 billion U.S. dollars.'"
      ]
     },
     "execution_count": 68,
     "metadata": {},
     "output_type": "execute_result"
    }
   ],
   "source": [
    "agent.run(\"What was the revenue of apple + microsoft in FY22?\")"
   ]
  },
  {
   "cell_type": "markdown",
   "metadata": {},
   "source": [
    "### Memory"
   ]
  },
  {
   "cell_type": "code",
   "execution_count": null,
   "metadata": {},
   "outputs": [],
   "source": []
  }
 ],
 "metadata": {
  "kernelspec": {
   "display_name": "venv",
   "language": "python",
   "name": "python3"
  },
  "language_info": {
   "codemirror_mode": {
    "name": "ipython",
    "version": 3
   },
   "file_extension": ".py",
   "mimetype": "text/x-python",
   "name": "python",
   "nbconvert_exporter": "python",
   "pygments_lexer": "ipython3",
   "version": "3.10.13"
  }
 },
 "nbformat": 4,
 "nbformat_minor": 2
}
