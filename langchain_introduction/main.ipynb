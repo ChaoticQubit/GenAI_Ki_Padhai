{
 "cells": [
  {
   "cell_type": "code",
   "execution_count": 20,
   "metadata": {},
   "outputs": [],
   "source": [
    "import os\n",
    "from langchain_openai import OpenAI\n",
    "from langchain.prompts import PromptTemplate\n",
    "from langchain.chains import LLMChain\n",
    "from langchain.chains import SimpleSequentialChain, SequentialChain\n",
    "\n",
    "os.environ[\"OPENAI_API_KEY\"] = os.environ.get(\"OPENAI_API_KEY\")"
   ]
  },
  {
   "cell_type": "markdown",
   "metadata": {},
   "source": [
    "### For Single Input and Single Output Chain"
   ]
  },
  {
   "cell_type": "code",
   "execution_count": 2,
   "metadata": {},
   "outputs": [],
   "source": [
    "llm = OpenAI(\n",
    "    temperature = 0.6\n",
    ")"
   ]
  },
  {
   "cell_type": "code",
   "execution_count": 3,
   "metadata": {},
   "outputs": [],
   "source": [
    "restaurant_prompt = PromptTemplate(\n",
    "    input_variables = ['cuisine'],\n",
    "    template = \"I want to open a restaurant for {cuisine} food. Suggest a fancy name for my restaurant.\"\n",
    ")"
   ]
  },
  {
   "cell_type": "code",
   "execution_count": 4,
   "metadata": {},
   "outputs": [
    {
     "data": {
      "text/plain": [
       "'I want to open a restaurant for Indian food. Suggest a fancy name for my restaurant.'"
      ]
     },
     "execution_count": 4,
     "metadata": {},
     "output_type": "execute_result"
    }
   ],
   "source": [
    "restaurant_prompt.format(cuisine = \"Indian\")"
   ]
  },
  {
   "cell_type": "code",
   "execution_count": 6,
   "metadata": {},
   "outputs": [
    {
     "data": {
      "text/plain": [
       "'\\n\\n\"Dragon Wok Fusion Bistro\"'"
      ]
     },
     "execution_count": 6,
     "metadata": {},
     "output_type": "execute_result"
    }
   ],
   "source": [
    "name_chain = LLMChain(\n",
    "    llm = llm,\n",
    "    prompt = restaurant_prompt\n",
    ")\n",
    "name_chain.run(\"Indo-Chinese\")"
   ]
  },
  {
   "cell_type": "code",
   "execution_count": 7,
   "metadata": {},
   "outputs": [],
   "source": [
    "menu_prompt = PromptTemplate(\n",
    "    input_variables = ['restaurant_name'],\n",
    "    template = \"Suggest some menu items for {restaurant_name}. Return it as a comma separated list.\"\n",
    ")"
   ]
  },
  {
   "cell_type": "code",
   "execution_count": 8,
   "metadata": {},
   "outputs": [],
   "source": [
    "menu_chain = LLMChain(\n",
    "    llm = llm,\n",
    "    prompt = menu_prompt\n",
    ")"
   ]
  },
  {
   "cell_type": "code",
   "execution_count": 13,
   "metadata": {},
   "outputs": [
    {
     "name": "stdout",
     "output_type": "stream",
     "text": [
      "\n",
      "\n",
      "1. Feijoada (Brazilian bean stew)\n",
      "2. Picanha (grilled beef sirloin)\n",
      "3. Moqueca (Brazilian seafood stew)\n",
      "4. Coxinha (fried chicken and cheese croquettes)\n",
      "5. Acarajé (black-eyed pea fritters)\n",
      "6. Churrasco (Brazilian-style BBQ)\n",
      "7. Brigadeiros (chocolate truffles)\n",
      "8. Caipirinha (Brazilian cocktail with cachaça, lime, and sugar)\n",
      "9. Açaí bowl (blended açaí berries topped with granola and fruit)\n",
      "10. Empadão (Brazilian savory pie with meat and vegetables)\n",
      "11. Pão de queijo (cheese bread)\n",
      "12. Bobó de camarão (shrimp in a creamy yucca sauce)\n",
      "13. Moqueca de peixe (Brazilian fish stew)\n",
      "14. Quindim (coconut custard dessert)\n",
      "15. Pastel (fried pastry filled with meat or cheese)\n"
     ]
    }
   ],
   "source": [
    "chain = SimpleSequentialChain(\n",
    "    chains = [name_chain, menu_chain]\n",
    ")\n",
    "response = chain.run(\"Brazilian\")\n",
    "print(response)"
   ]
  },
  {
   "cell_type": "markdown",
   "metadata": {},
   "source": [
    "### For Multiple inputs and Multiple Output Chains"
   ]
  },
  {
   "cell_type": "code",
   "execution_count": 14,
   "metadata": {},
   "outputs": [],
   "source": [
    "llm = OpenAI(\n",
    "    temperature = 0.6\n",
    ")"
   ]
  },
  {
   "cell_type": "code",
   "execution_count": 15,
   "metadata": {},
   "outputs": [],
   "source": [
    "restaurant_prompt = PromptTemplate(\n",
    "    input_variables = ['cuisine'],\n",
    "    template = \"I want to open a restaurant for {cuisine} food. Suggest a fancy name for my restaurant.\"\n",
    ")"
   ]
  },
  {
   "cell_type": "code",
   "execution_count": 16,
   "metadata": {},
   "outputs": [],
   "source": [
    "name_chain = LLMChain(\n",
    "    llm = llm,\n",
    "    prompt = restaurant_prompt,\n",
    "    output_key = \"restaurant_name\"\n",
    ")"
   ]
  },
  {
   "cell_type": "code",
   "execution_count": 18,
   "metadata": {},
   "outputs": [],
   "source": [
    "menu_prompt = PromptTemplate(\n",
    "    input_variables = ['restaurant_name'],\n",
    "    template = \"Suggest some menu items for {restaurant_name}. Return it as a comma separated list.\"\n",
    ")"
   ]
  },
  {
   "cell_type": "code",
   "execution_count": 19,
   "metadata": {},
   "outputs": [],
   "source": [
    "menu_chain = LLMChain(\n",
    "    llm = llm,\n",
    "    prompt = menu_prompt,\n",
    "    output_key = \"menu_items\"\n",
    ")"
   ]
  },
  {
   "cell_type": "code",
   "execution_count": 23,
   "metadata": {},
   "outputs": [
    {
     "name": "stdout",
     "output_type": "stream",
     "text": [
      "{'cuisine': 'Brazilian', 'restaurant_name': '\\n\\n\"Sabor do Brasil\" (Taste of Brazil)', 'menu_items': '\\n\\n1. Feijoada (Brazilian black bean stew)\\n2. Moqueca (Brazilian seafood stew)\\n3. Coxinha (Fried chicken croquette)\\n4. Picanha (Brazilian grilled steak)\\n5. Churrasco (Brazilian BBQ)\\n6. Acarajé (Fried black-eyed pea fritters)\\n7. Brigadeiro (Chocolate truffle)\\n8. Caipirinha (Brazilian cocktail)\\n9. Empadão (Savory pie with meat or vegetables)\\n10. Açaí Bowl (Frozen açaí fruit topped with granola and fresh fruit)\\n11. Pastel (Fried pastry filled with meat, cheese, or vegetables)\\n12. Moqueca de Camarão (Brazilian shrimp stew)\\n13. Farofa (Toasted cassava flour with seasonings)\\n14. Quindim (Coconut custard dessert)\\n15. Pão de Queijo (Cheese bread).'}\n"
     ]
    }
   ],
   "source": [
    "chain = SequentialChain(\n",
    "    chains = [name_chain, menu_chain],\n",
    "    input_variables = ['cuisine'],\n",
    "    output_variables = ['restaurant_name', 'menu_items']\n",
    ")\n",
    "\n",
    "response = chain({'cuisine': 'Brazilian'})\n",
    "print(response)"
   ]
  },
  {
   "cell_type": "code",
   "execution_count": null,
   "metadata": {},
   "outputs": [],
   "source": []
  }
 ],
 "metadata": {
  "kernelspec": {
   "display_name": "venv",
   "language": "python",
   "name": "python3"
  },
  "language_info": {
   "codemirror_mode": {
    "name": "ipython",
    "version": 3
   },
   "file_extension": ".py",
   "mimetype": "text/x-python",
   "name": "python",
   "nbconvert_exporter": "python",
   "pygments_lexer": "ipython3",
   "version": "3.10.13"
  }
 },
 "nbformat": 4,
 "nbformat_minor": 2
}
